{
 "cells": [
  {
   "cell_type": "code",
   "execution_count": 1,
   "metadata": {},
   "outputs": [],
   "source": [
    "import numpy as np\n",
    "from sklearn import datasets\n",
    "from sklearn.dummy import DummyClassifier\n",
    "from sklearn.model_selection import cross_val_predict\n",
    "from sklearn.model_selection import KFold\n",
    "import sklearn.metrics as metrics\n",
    "from sklearn.model_selection import train_test_split"
   ]
  },
  {
   "cell_type": "code",
   "execution_count": 2,
   "metadata": {},
   "outputs": [
    {
     "name": "stdout",
     "output_type": "stream",
     "text": [
      "(150, 4)\n"
     ]
    }
   ],
   "source": [
    "# Carga de datos.\n",
    "datos = datasets.load_iris()\n",
    "# print(datos)\n",
    "print(np.shape(datos.data))"
   ]
  },
  {
   "cell_type": "code",
   "execution_count": 3,
   "metadata": {},
   "outputs": [
    {
     "name": "stdout",
     "output_type": "stream",
     "text": [
      "Train dimensions:  (120, 4)\n",
      "Test dimensions:   (30, 4)\n"
     ]
    }
   ],
   "source": [
    "# Partición EXTERNA. Test: hold-out split 80-20%.\n",
    "X_train, X_test, y_train, y_test = train_test_split(datos.data, datos.target, test_size=0.2, random_state=42)\n",
    "print('Train dimensions: ', np.shape(X_train))\n",
    "print('Test dimensions:  ', np.shape(X_test))"
   ]
  },
  {
   "cell_type": "code",
   "execution_count": 4,
   "metadata": {},
   "outputs": [],
   "source": [
    "# Algoritmo de aprendizaje.\n",
    "clf = DummyClassifier(strategy='stratified', random_state=42)"
   ]
  },
  {
   "cell_type": "code",
   "execution_count": 5,
   "metadata": {},
   "outputs": [
    {
     "name": "stdout",
     "output_type": "stream",
     "text": [
      "[1 1 0 2 0 2 2 0 1 0 2 2 1 1 2 1 0 2 0 2 2 0 0 1 2 2 1 0 0 1 1 1 0 1 1 1 0\n",
      " 0 1 2 2 1 1 1 2 2 1 1 0 1 2 2 2 2 2 2 1 0 1 1 2 1 2 2 0 2 0 1 1 1 2 1 1 2\n",
      " 2 1 0 1 1 0 1 1 2 2 0 1 0 1 1 0 1 0 2 1 2 0 2 0 0 2 1 0 1 0 2 0 0 0 2 2 1\n",
      " 1 0 1 0 0 1 1 1 2]\n"
     ]
    }
   ],
   "source": [
    "# Validación y obtención de las predicciones del modelo.\n",
    "# en \"cv=KFold(n_splits=5)\" se hace el cross-validation INTERNO!!\n",
    "# el comando \"cross_val_predict\" nos permite extraer directamente las predicciones de las 5 bolsas de validación\n",
    "y_pred = cross_val_predict(clf, X_train, y_train, cv = KFold(n_splits=5, shuffle=True, random_state=42))\n",
    "print(y_pred)"
   ]
  },
  {
   "cell_type": "code",
   "execution_count": 6,
   "metadata": {},
   "outputs": [
    {
     "name": "stdout",
     "output_type": "stream",
     "text": [
      "Exactitud: 0.333\n",
      "Precisión: 0.339\n",
      "Sensibilidad: 0.333\n",
      "F1-score: 0.335\n"
     ]
    }
   ],
   "source": [
    "# Presentación de los resultados de la evaluación.\n",
    "print(\"Exactitud: %.3f\" % (metrics.accuracy_score(y_train, y_pred))) # accuracy\n",
    "print(\"Precisión: %.3f\" % (metrics.precision_score(y_train, y_pred, average=\"macro\"))) # precision\n",
    "print(\"Sensibilidad: %.3f\" % (metrics.recall_score(y_train, y_pred, average=\"macro\"))) # sensibilidad\n",
    "print(\"F1-score: %.3f\" % (metrics.f1_score(y_train, y_pred, average=\"macro\"))) # F-score\n"
   ]
  },
  {
   "cell_type": "code",
   "execution_count": 7,
   "metadata": {},
   "outputs": [
    {
     "name": "stdout",
     "output_type": "stream",
     "text": [
      "Matriz de confusión:\n",
      " [[13 19  8]\n",
      " [10 14 17]\n",
      " [11 15 13]]\n"
     ]
    }
   ],
   "source": [
    "# Extraemos la matriz de confusión\n",
    "print(\"Matriz de confusión:\\n\", metrics.confusion_matrix(y_train, y_pred))"
   ]
  },
  {
   "cell_type": "code",
   "execution_count": 8,
   "metadata": {},
   "outputs": [
    {
     "name": "stdout",
     "output_type": "stream",
     "text": [
      "Tabla de métricas:\n",
      "               precision    recall  f1-score   support\n",
      "\n",
      "           0       0.38      0.33      0.35        40\n",
      "           1       0.29      0.34      0.31        41\n",
      "           2       0.34      0.33      0.34        39\n",
      "\n",
      "    accuracy                           0.33       120\n",
      "   macro avg       0.34      0.33      0.33       120\n",
      "weighted avg       0.34      0.33      0.33       120\n",
      "\n"
     ]
    }
   ],
   "source": [
    "print(\"Tabla de métricas:\\n\", metrics.classification_report(y_train, y_pred))"
   ]
  },
  {
   "cell_type": "code",
   "execution_count": 9,
   "metadata": {},
   "outputs": [
    {
     "name": "stdout",
     "output_type": "stream",
     "text": [
      "Exactitud en test:  36.6667 %\n"
     ]
    }
   ],
   "source": [
    "# Una vez analizado lo que ocurre en el conjunto de datos de validación, utilizamos todos los datos de \"train\" y \"val\"\n",
    "# para construir un modelo definitivo\n",
    "clf = clf.fit(X_train, y_train) # Entrenamos el modelo\n",
    "\n",
    "# Y posteriormente evaluar el resultado del modelo entrenado con el conjunto de test\n",
    "test_results = clf.score(X_test, y_test) # Evaluamos el test\n",
    "print('Exactitud en test: ', np.round(test_results*100,4), '%')"
   ]
  },
  {
   "cell_type": "code",
   "execution_count": 10,
   "metadata": {},
   "outputs": [
    {
     "name": "stdout",
     "output_type": "stream",
     "text": [
      "              precision    recall  f1-score   support\n",
      "\n",
      "           0       0.56      0.50      0.53        10\n",
      "           1       0.31      0.44      0.36         9\n",
      "           2       0.25      0.18      0.21        11\n",
      "\n",
      "    accuracy                           0.37        30\n",
      "   macro avg       0.37      0.38      0.37        30\n",
      "weighted avg       0.37      0.37      0.36        30\n",
      "\n",
      "[[5 3 2]\n",
      " [1 4 4]\n",
      " [3 6 2]]\n"
     ]
    }
   ],
   "source": [
    "# También podemos obtener las predicciones del test para extraer el resto de métricas de interés sobre el test\n",
    "y_pred_test = clf.predict(X_test)\n",
    "print(metrics.classification_report(y_test, y_pred_test))\n",
    "print(metrics.confusion_matrix(y_test, y_pred_test))"
   ]
  },
  {
   "cell_type": "code",
   "execution_count": 11,
   "metadata": {},
   "outputs": [
    {
     "name": "stdout",
     "output_type": "stream",
     "text": [
      "              precision    recall  f1-score   support\n",
      "\n",
      "           0       1.00      1.00      1.00        40\n",
      "           1       0.86      0.93      0.89        41\n",
      "           2       0.92      0.85      0.88        39\n",
      "\n",
      "    accuracy                           0.93       120\n",
      "   macro avg       0.93      0.92      0.92       120\n",
      "weighted avg       0.93      0.93      0.92       120\n",
      "\n",
      "[[40  0  0]\n",
      " [ 0 38  3]\n",
      " [ 0  6 33]]\n"
     ]
    }
   ],
   "source": [
    "# Veamos qué ocurre con un algoritmo más complejo que \"dummyclassifier\"\n",
    "\n",
    "# Hacemos el cross-validation INTERNO para seleccionar los mejores hiperparámetros\n",
    "from sklearn.svm import SVC\n",
    "svc = SVC(C=0.5)\n",
    "y_pred = cross_val_predict(svc, X_train, y_train, cv = KFold(n_splits=5, shuffle=True, random_state=42))\n",
    "\n",
    "print(metrics.classification_report(y_train, y_pred))\n",
    "print(metrics.confusion_matrix(y_train, y_pred))"
   ]
  },
  {
   "cell_type": "code",
   "execution_count": 12,
   "metadata": {},
   "outputs": [
    {
     "name": "stdout",
     "output_type": "stream",
     "text": [
      "Exactitud en test:  100.0 %\n"
     ]
    }
   ],
   "source": [
    "# Una vez hemos optimizado los hiperparámetros con el conjunto de validación, utilizamos todos los datos de \n",
    "# \"train\" y \"validation\" para entrenar un modelo definitivo con esos hiperparámetros ajustados\n",
    "svc = SVC(C=0.5) # Definimos el modelo con los hiperparámetros óptimos\n",
    "svc = svc.fit(X_train, y_train) # Entrenamos el modelo con todos los datos de \"train\" + \"val\"\n",
    "\n",
    "# y finalmente evaluamos el test\n",
    "test_results = svc.score(X_test, y_test) # Evaluamos la exactitud del test\n",
    "print('Exactitud en test: ', np.round(test_results*100,4), '%')"
   ]
  },
  {
   "cell_type": "code",
   "execution_count": 13,
   "metadata": {},
   "outputs": [
    {
     "name": "stdout",
     "output_type": "stream",
     "text": [
      "              precision    recall  f1-score   support\n",
      "\n",
      "           0       1.00      1.00      1.00        10\n",
      "           1       1.00      1.00      1.00         9\n",
      "           2       1.00      1.00      1.00        11\n",
      "\n",
      "    accuracy                           1.00        30\n",
      "   macro avg       1.00      1.00      1.00        30\n",
      "weighted avg       1.00      1.00      1.00        30\n",
      "\n",
      "[[10  0  0]\n",
      " [ 0  9  0]\n",
      " [ 0  0 11]]\n"
     ]
    }
   ],
   "source": [
    "# obtenemos las predicciones del test para extraer el resto de métricas de interés\n",
    "y_pred_test = svc.predict(X_test)\n",
    "print(metrics.classification_report(y_test, y_pred_test))\n",
    "print(metrics.confusion_matrix(y_test, y_pred_test))"
   ]
  }
 ],
 "metadata": {
  "kernelspec": {
   "display_name": "Python 3",
   "language": "python",
   "name": "python3"
  },
  "language_info": {
   "codemirror_mode": {
    "name": "ipython",
    "version": 3
   },
   "file_extension": ".py",
   "mimetype": "text/x-python",
   "name": "python",
   "nbconvert_exporter": "python",
   "pygments_lexer": "ipython3",
   "version": "3.11.7"
  }
 },
 "nbformat": 4,
 "nbformat_minor": 2
}
