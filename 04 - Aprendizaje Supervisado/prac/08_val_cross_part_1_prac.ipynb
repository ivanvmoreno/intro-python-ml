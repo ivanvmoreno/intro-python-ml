{
 "cells": [
  {
   "cell_type": "code",
   "execution_count": 1,
   "metadata": {},
   "outputs": [],
   "source": [
    "from sklearn.model_selection import KFold"
   ]
  },
  {
   "cell_type": "code",
   "execution_count": 2,
   "metadata": {},
   "outputs": [],
   "source": [
    "# Carga de datos.\n",
    "X = [\"a\", \"b\", \"c\", \"d\", \"e\", \"f\", \"g\", \"h\", \"i\", \"j\"]"
   ]
  },
  {
   "cell_type": "code",
   "execution_count": 3,
   "metadata": {},
   "outputs": [],
   "source": [
    "# Validación cruzada.\n",
    "kf = KFold(n_splits = 5, shuffle=True, random_state=42)\n",
    "bolsas = kf.split(X)"
   ]
  },
  {
   "cell_type": "code",
   "execution_count": 4,
   "metadata": {},
   "outputs": [
    {
     "name": "stdout",
     "output_type": "stream",
     "text": [
      "Iteracion 1 :\n",
      " - Entrenamiento: [0 2 3 4 5 6 7 9]\n",
      " - Test: [1 8]\n",
      "Iteracion 2 :\n",
      " - Entrenamiento: [1 2 3 4 6 7 8 9]\n",
      " - Test: [0 5]\n",
      "Iteracion 3 :\n",
      " - Entrenamiento: [0 1 3 4 5 6 8 9]\n",
      " - Test: [2 7]\n",
      "Iteracion 4 :\n",
      " - Entrenamiento: [0 1 2 3 5 6 7 8]\n",
      " - Test: [4 9]\n",
      "Iteracion 5 :\n",
      " - Entrenamiento: [0 1 2 4 5 7 8 9]\n",
      " - Test: [3 6]\n"
     ]
    }
   ],
   "source": [
    "# Mostrar ejemplos de cada iteración.\n",
    "k = 1\n",
    "for train, test in bolsas:\n",
    "    print(\"Iteracion\", k, \":\")\n",
    "    print(\" - Entrenamiento: %s\" % (train)) \n",
    "    print(\" - Test: %s\" % (test))\n",
    "    k = k + 1"
   ]
  }
 ],
 "metadata": {
  "kernelspec": {
   "display_name": "Python 3",
   "language": "python",
   "name": "python3"
  },
  "language_info": {
   "codemirror_mode": {
    "name": "ipython",
    "version": 3
   },
   "file_extension": ".py",
   "mimetype": "text/x-python",
   "name": "python",
   "nbconvert_exporter": "python",
   "pygments_lexer": "ipython3",
   "version": "3.11.7"
  }
 },
 "nbformat": 4,
 "nbformat_minor": 2
}
