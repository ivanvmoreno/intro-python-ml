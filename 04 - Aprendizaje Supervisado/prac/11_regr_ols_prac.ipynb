{
 "cells": [
  {
   "cell_type": "code",
   "execution_count": 5,
   "metadata": {},
   "outputs": [
    {
     "name": "stderr",
     "output_type": "stream",
     "text": [
      "/var/folders/m7/bn7r1sg94s539hr0hp_6s2_h0000gn/T/ipykernel_36966/4215123762.py:2: DeprecationWarning: \n",
      "Pyarrow will become a required dependency of pandas in the next major release of pandas (pandas 3.0),\n",
      "(to allow more performant data types, such as the Arrow string type, and better interoperability with other libraries)\n",
      "but was not found to be installed on your system.\n",
      "If this would cause problems for you,\n",
      "please provide us feedback at https://github.com/pandas-dev/pandas/issues/54466\n",
      "        \n",
      "  import pandas as pd\n"
     ]
    }
   ],
   "source": [
    "import numpy as np\n",
    "import pandas as pd\n",
    "from math import sqrt\n",
    "from pprint import pprint\n",
    "from sklearn import datasets, linear_model, metrics\n",
    "from sklearn.dummy import DummyRegressor\n",
    "from sklearn.model_selection import cross_validate, KFold, cross_val_predict, train_test_split, cross_val_score\n",
    "from sklearn import preprocessing\n",
    "from sklearn.metrics import make_scorer, mean_squared_error\n",
    "import matplotlib.pyplot as plt"
   ]
  },
  {
   "cell_type": "code",
   "execution_count": 6,
   "metadata": {},
   "outputs": [
    {
     "name": "stdout",
     "output_type": "stream",
     "text": [
      "Dimensiones de X:  (242, 16)\n"
     ]
    }
   ],
   "source": [
    "# Carga de datos.\n",
    "datos = pd.read_csv('data/boston.csv', sep=\"\\s+\", skiprows=22, header=None)\n",
    "X = np.hstack([datos.values[::2, :], datos.values[1::2, :2]])\n",
    "y = datos.values[1::2, 2]\n",
    "print('Dimensiones de X: ', np.shape(X))"
   ]
  },
  {
   "cell_type": "code",
   "execution_count": 7,
   "metadata": {},
   "outputs": [],
   "source": [
    "# Métricas de evaluación.\n",
    "metricas = {\n",
    "  'MAE': 'neg_mean_absolute_error',\n",
    "  'MSE': 'neg_mean_squared_error',\n",
    "  'RMSE': 'neg_root_mean_squared_error',\n",
    "  'R2':   'r2'\n",
    "}"
   ]
  },
  {
   "cell_type": "code",
   "execution_count": 8,
   "metadata": {},
   "outputs": [
    {
     "name": "stdout",
     "output_type": "stream",
     "text": [
      "(193, 16)\n"
     ]
    }
   ],
   "source": [
    "# Partición de datos externa\n",
    "X_training, X_testing, y_training, y_testing = train_test_split(X, y, test_size=0.2, random_state=42)\n",
    "print(np.shape(X_training))"
   ]
  },
  {
   "cell_type": "code",
   "execution_count": 9,
   "metadata": {},
   "outputs": [],
   "source": [
    "# Estandarización de los datos de entrenamiento\n",
    "standardizer = preprocessing.StandardScaler()\n",
    "X_stdr = standardizer.fit_transform(X_training)"
   ]
  },
  {
   "cell_type": "code",
   "execution_count": 10,
   "metadata": {},
   "outputs": [],
   "source": [
    "# Construcción del algoritmo de aprendizaje.\n",
    "reg = linear_model.LinearRegression()"
   ]
  },
  {
   "cell_type": "code",
   "execution_count": 11,
   "metadata": {},
   "outputs": [
    {
     "name": "stdout",
     "output_type": "stream",
     "text": [
      "{'fit_time': array([0.00241089, 0.0004108 , 0.00031686, 0.00030899, 0.00027895]),\n",
      " 'score_time': array([0.00042224, 0.00023913, 0.00022817, 0.00020695, 0.00020504]),\n",
      " 'test_MAE': array([-0.7693745 , -1.0427681 , -0.80023378, -1.47498014, -0.62731328]),\n",
      " 'test_MSE': array([ -1.26014768,  -2.56368659,  -1.29513732, -15.0346776 ,\n",
      "        -1.01128263]),\n",
      " 'test_R2': array([0.97765146, 0.94226833, 0.97016724, 0.70760542, 0.97816587]),\n",
      " 'test_RMSE': array([-1.12256299, -1.60115165, -1.138041  , -3.87745762, -1.00562549])}\n"
     ]
    }
   ],
   "source": [
    "# Extraer directamente resultados del error para cada bolsa, en lugar de las predicciones\n",
    "cross_val_results = cross_validate(reg, X_stdr, y_training, \n",
    "                                    cv = KFold(n_splits=5, shuffle=True, random_state=42), scoring=metricas)\n",
    "#print(\"cross_val_MAE:   %0.4f +/- %0.4f\" % (-cross_val_results.mean(), cross_val_results.std()))\n",
    "pprint(cross_val_results)"
   ]
  },
  {
   "cell_type": "code",
   "execution_count": 12,
   "metadata": {},
   "outputs": [
    {
     "name": "stdout",
     "output_type": "stream",
     "text": [
      "Model coeficients: \n",
      " [ 1.66528336e-02  7.41812223e-01  6.50949580e+00  4.21090260e-02\n",
      "  4.65717521e-01  3.07711362e-02 -1.27130343e-02  4.38405688e-01\n",
      "  4.13137574e-01 -2.49271611e-01 -2.25780081e-03 -9.44177167e-02\n",
      "  2.18683119e-01  1.80680831e-01  3.49037295e-02 -8.69819398e-01]\n",
      "\n",
      "Término independiente:  11.505699481865276\n"
     ]
    }
   ],
   "source": [
    "# Entrenamiento con todos los datos para obtener los coeficientes del modelo.\n",
    "model = reg.fit(X_stdr, y_training)\n",
    "\n",
    "# Obtención de los coeficientes del modelo.\n",
    "w = model.coef_\n",
    "print('Model coeficients: \\n', w)\n",
    "\n",
    "# Obtención del término independiente del modelo.\n",
    "w_0 = model.intercept_\n",
    "print('\\nTérmino independiente: ', w_0)"
   ]
  },
  {
   "cell_type": "code",
   "execution_count": 13,
   "metadata": {},
   "outputs": [],
   "source": [
    "# ---- PREDICCIÓN ---- #"
   ]
  },
  {
   "cell_type": "code",
   "execution_count": 14,
   "metadata": {},
   "outputs": [],
   "source": [
    "# Estandarización de las característiacs de test\n",
    "X_test_stdr = standardizer.transform(X_testing)"
   ]
  },
  {
   "cell_type": "code",
   "execution_count": 15,
   "metadata": {},
   "outputs": [
    {
     "name": "stdout",
     "output_type": "stream",
     "text": [
      "[10.34111683  8.40787625  7.60021579 18.19553149  9.74716927 18.07140445\n",
      " 18.01705486  7.43080072  5.70377647  6.54797533  9.57632921 18.82468657\n",
      " 17.59399131 18.1412983   1.62513878  6.2273702  17.84930631  6.03800486\n",
      " 19.64203502  6.59041935  3.44875981  5.89277741  5.21249573  4.92976624\n",
      " 17.92430532  1.33623546  7.0899459  18.49491268 10.63664822  7.30428135\n",
      "  6.48947241 18.58251713 10.25670379 19.73155057  5.95314421  6.32971792\n",
      " 10.80884578 18.44543831 13.47314274  9.44730679  4.25116461  6.47530495\n",
      "  6.55957092  3.5080622  17.68899047 19.63750924 18.50767748  3.18400593\n",
      " 11.23607844]\n"
     ]
    }
   ],
   "source": [
    "# Predicción del conjunto de test\n",
    "y_pred_test = model.predict(X_test_stdr)\n",
    "print(y_pred_test)"
   ]
  },
  {
   "cell_type": "code",
   "execution_count": 16,
   "metadata": {},
   "outputs": [
    {
     "name": "stdout",
     "output_type": "stream",
     "text": [
      "MAE:  0.6220\n",
      "MSE:  0.8926\n",
      "RMSE: 0.9448\n",
      "R2:   0.9760\n"
     ]
    }
   ],
   "source": [
    "# Cálculo de las métricas de evaluación.\n",
    "MAE = metrics.mean_absolute_error(y_testing, y_pred_test)\n",
    "MSE = metrics.mean_squared_error(y_testing, y_pred_test, squared=True)\n",
    "RMSE = metrics.mean_squared_error(y_testing, y_pred_test, squared=False)\n",
    "R2 = metrics.r2_score(y_testing, y_pred_test)\n",
    "\n",
    "print('MAE:  %.4f' % MAE)\n",
    "print('MSE:  %.4f' % MSE)\n",
    "print('RMSE: %.4f' % RMSE)\n",
    "print('R2:   %.4f' % R2)"
   ]
  },
  {
   "cell_type": "code",
   "execution_count": 17,
   "metadata": {},
   "outputs": [
    {
     "data": {
      "image/png": "[encoded data removed]",
      "text/plain": [
       "<Figure size 640x480 with 1 Axes>"
      ]
     },
     "metadata": {},
     "output_type": "display_data"
    }
   ],
   "source": [
    "# Gráfica de realidad vs. predicción.\n",
    "fig, ax = plt.subplots()\n",
    "ax.scatter(y_testing, y_pred_test, edgecolors=(0, 0, 0))\n",
    "ax.plot([y.min(), y.max()], [y.min(), y.max()], 'k--', lw=4)\n",
    "ax.set_xlabel('Valor real de la clase')\n",
    "ax.set_ylabel('Predicción')\n",
    "plt.title(\"MAE: %.3f  MSE: %.3f   RMSE: %.3f  R2: %.3f\" %\n",
    "          (MAE, MSE, RMSE, R2))\n",
    "plt.grid()\n",
    "plt.show()"
   ]
  }
 ],
 "metadata": {
  "kernelspec": {
   "display_name": "Python 3",
   "language": "python",
   "name": "python3"
  },
  "language_info": {
   "codemirror_mode": {
    "name": "ipython",
    "version": 3
   },
   "file_extension": ".py",
   "mimetype": "text/x-python",
   "name": "python",
   "nbconvert_exporter": "python",
   "pygments_lexer": "ipython3",
   "version": "3.11.7"
  }
 },
 "nbformat": 4,
 "nbformat_minor": 4
}
