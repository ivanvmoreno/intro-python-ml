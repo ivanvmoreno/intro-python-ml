{
 "cells": [
  {
   "cell_type": "code",
   "execution_count": 6,
   "metadata": {},
   "outputs": [],
   "source": [
    "import numpy as np\n",
    "import pandas as pd\n",
    "from math import sqrt\n",
    "from pprint import pprint\n",
    "from sklearn import datasets\n",
    "from sklearn.dummy import DummyRegressor\n",
    "from sklearn.model_selection import cross_validate\n",
    "from sklearn.model_selection import KFold\n",
    "from sklearn.metrics import make_scorer\n",
    "from sklearn.metrics import mean_squared_error\n",
    "from sklearn.model_selection import train_test_split"
   ]
  },
  {
   "cell_type": "code",
   "execution_count": 7,
   "metadata": {},
   "outputs": [],
   "source": [
    "# Carga de datos.\n",
    "datos = pd.read_csv('data/boston.csv', sep=\"\\s+\", skiprows=22, header=None)\n",
    "X = np.hstack([datos.values[::2, :], datos.values[1::2, :2]])\n",
    "y = datos.values[1::2, 2]\n",
    "# pprint(datos)\n",
    "# print(np.shape(datos.data))"
   ]
  },
  {
   "cell_type": "code",
   "execution_count": 8,
   "metadata": {},
   "outputs": [
    {
     "name": "stdout",
     "output_type": "stream",
     "text": [
      "Train dimensions:  (193, 16)\n",
      "Test dimensions:   (49, 16)\n"
     ]
    }
   ],
   "source": [
    "# Partición EXTERNA. Test: hold-out split 80-20%.\n",
    "X_train, X_test, y_train, y_test = train_test_split(X, y, test_size=0.2, random_state=42)\n",
    "print('Train dimensions: ', np.shape(X_train))\n",
    "print('Test dimensions:  ', np.shape(X_test))"
   ]
  },
  {
   "cell_type": "code",
   "execution_count": 9,
   "metadata": {},
   "outputs": [],
   "source": [
    "# Algoritmo de aprendizaje.\n",
    "reg = DummyRegressor()"
   ]
  },
  {
   "cell_type": "code",
   "execution_count": 10,
   "metadata": {},
   "outputs": [],
   "source": [
    "# Métricas de evaluación.\n",
    "metricas = {\n",
    "  'MAE': 'neg_mean_absolute_error',\n",
    "  'RMSE': make_scorer(\n",
    "          lambda y, y_pred:\n",
    "            sqrt(mean_squared_error(y, y_pred)),\n",
    "            greater_is_better=False),\n",
    "  'MAPE': make_scorer(\n",
    "          lambda y, y_pred:\n",
    "            np.mean(np.abs((y - y_pred) / y)) * 100,\n",
    "            greater_is_better=False)}"
   ]
  },
  {
   "cell_type": "code",
   "execution_count": 11,
   "metadata": {},
   "outputs": [],
   "source": [
    "# Validación y evaluación del modelo.\n",
    "# en \"cv = KFold(n_splits=5)\" se hace un cross-validation INTERNO!! \n",
    "evaluacion = cross_validate(reg, X_train, y_train, cv = KFold(n_splits=5), scoring = metricas)"
   ]
  },
  {
   "cell_type": "code",
   "execution_count": 12,
   "metadata": {},
   "outputs": [
    {
     "name": "stdout",
     "output_type": "stream",
     "text": [
      "{'fit_time': array([0.00049686, 0.00024033, 0.00038981, 0.0001688 , 0.000108  ]),\n",
      " 'score_time': array([0.00053811, 0.00020194, 0.00032806, 0.00040817, 0.00016689]),\n",
      " 'test_MAE': array([-6.64609391, -5.78759241, -5.42780386, -7.50750255, -6.8984618 ]),\n",
      " 'test_MAPE': array([-158.66288532, -106.80499531,  -81.96206125, -143.75384309,\n",
      "       -134.55602044]),\n",
      " 'test_RMSE': array([-6.95567472, -6.71661959, -6.01450409, -7.94278229, -7.47024411])}\n"
     ]
    }
   ],
   "source": [
    "# Presentación de los resultados de la evaluación.\n",
    "pprint(evaluacion)"
   ]
  },
  {
   "cell_type": "code",
   "execution_count": 13,
   "metadata": {},
   "outputs": [
    {
     "name": "stdout",
     "output_type": "stream",
     "text": [
      "{'fit_time': array([0.00134611, 0.00107217, 0.0010078 , 0.00102091, 0.00110698]),\n",
      " 'score_time': array([0.00038385, 0.00034595, 0.00032115, 0.00032902, 0.00043178]),\n",
      " 'test_MAE': array([-1.7410281 , -2.57794065, -1.80956293, -2.17392931, -1.91162999]),\n",
      " 'test_MAPE': array([-30.56545136, -37.18484765, -21.26128543, -24.98108023,\n",
      "       -21.76733774]),\n",
      " 'test_RMSE': array([-2.90122335, -4.08992373, -3.00215786, -4.44496437, -3.26191229])}\n"
     ]
    }
   ],
   "source": [
    "# Veamos como disminuye el error durante el cross-validation interno si utilizamos un algoritmo más complejo\n",
    "# El objetivo es utilizar cross-validation INTERNO para optimizar los hiperpárametros (C, por ejemplo)\n",
    "from sklearn.svm import SVR\n",
    "svr = SVR(C=100)\n",
    "results = cross_validate(svr, X_train, y_train, cv=KFold(n_splits=5), scoring=metricas)\n",
    "pprint(results)"
   ]
  },
  {
   "cell_type": "code",
   "execution_count": 14,
   "metadata": {},
   "outputs": [
    {
     "name": "stdout",
     "output_type": "stream",
     "text": [
      "Error MAE en test:  1.5136374850668557\n"
     ]
    }
   ],
   "source": [
    "# Una vez hemos optimizado los hiperparámetros en el conjunto de validación, entrenamos un nuevo modelo que contenga\n",
    "# todos los datos de entrenamiento (es decir, train + validation) para evaluar el test\n",
    "from sklearn.metrics import mean_absolute_error\n",
    "svr = SVR(C=100) # Definimos el modelo con los hiperparámetros optimizados\n",
    "svr = svr.fit(X_train, y_train) # Entrenamos el modelo\n",
    "\n",
    "# Extraemos las predicciones del test\n",
    "y_pred = svr.predict(X_test)\n",
    "# Observamos el error cometido (En este caso utilizando solo la métrica MAE)\n",
    "print('Error MAE en test: ', mean_absolute_error(y_pred, y_test))"
   ]
  },
  {
   "cell_type": "code",
   "execution_count": 15,
   "metadata": {},
   "outputs": [
    {
     "name": "stdout",
     "output_type": "stream",
     "text": [
      "Predicciones:    [ 8.2 11.2  6.6 18.1 11.1 18.3 18.2  6.8  5.3  6.4]\n",
      "Valores reales:  [10.81  5.96  7.38 18.1   9.69 18.1  18.1   7.38  6.91  5.86]\n"
     ]
    }
   ],
   "source": [
    "# También podemos ver cuánto difieren los valores predichos de los reales (observamos únicamente los 10 primeros valores)\n",
    "print('Predicciones:   ', np.round(y_pred[:10], 1))\n",
    "print('Valores reales: ', y_test[:10])"
   ]
  }
 ],
 "metadata": {
  "kernelspec": {
   "display_name": "Python 3",
   "language": "python",
   "name": "python3"
  },
  "language_info": {
   "codemirror_mode": {
    "name": "ipython",
    "version": 3
   },
   "file_extension": ".py",
   "mimetype": "text/x-python",
   "name": "python",
   "nbconvert_exporter": "python",
   "pygments_lexer": "ipython3",
   "version": "3.11.7"
  }
 },
 "nbformat": 4,
 "nbformat_minor": 2
}
